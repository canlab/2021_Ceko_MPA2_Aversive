{
 "cells": [
  {
   "cell_type": "markdown",
   "metadata": {},
   "source": [
    "# Overview\n",
    "This script calculates and plots Variance Explained (total, unique) for components of the PLS model (MPA2-Experience dataset with 4 aversive modalities x 4 stim intensities)"
   ]
  },
  {
   "cell_type": "markdown",
   "metadata": {},
   "source": [
    "## Set up"
   ]
  },
  {
   "cell_type": "code",
   "execution_count": 1,
   "metadata": {},
   "outputs": [
    {
     "name": "stdout",
     "output_type": "stream",
     "text": [
      "\n",
      "ans =\n",
      "\n",
      "/Users/marta/Google Drive/B_AVERSIVE/Analysis/MPA2_EXP/scripts/PLS_code_MPA\n",
      "\n"
     ]
    }
   ],
   "source": [
    "%% run from dir PLS_code_MPA\n",
    "runfromdir='/Users/marta/Google Drive/B_AVERSIVE/Analysis/MPA2_EXP/scripts/PLS_code_MPA';\n",
    "cd(runfromdir);\n",
    "pwd"
   ]
  },
  {
   "cell_type": "code",
   "execution_count": 2,
   "metadata": {},
   "outputs": [],
   "source": [
    "%% Load data \n",
    "load('data_objects.mat')\n",
    "import_Behav_MPA2\n",
    "\n",
    "%% \n",
    "modality=[];stim_int=[];\n",
    "subjects=repmat(1:55,1,16)';\n",
    "ints=rem(1:16,4);ints(ints==0)=4;\n",
    "for d=1:16\n",
    "    \n",
    "    if d==1\n",
    "        dat=DATA_OBJ{1};\n",
    "    else\n",
    "        dat.dat=[dat.dat DATA_OBJ{d}.dat];\n",
    "    end\n",
    "    \n",
    "    dat.Y=[dat.Y; Pain_Avoid(:,d)];\n",
    "    modality=[modality; ceil(d/4)*ones(55,1)];\n",
    "    stim_int=[stim_int; ints(d)*ones(55,1)];\n",
    "end\n",
    "\n",
    "load('PLS_crossvalidated_N55.mat');"
   ]
  },
  {
   "cell_type": "code",
   "execution_count": 3,
   "metadata": {},
   "outputs": [],
   "source": [
    "%% Set Colors \n",
    "mechanical_color = [1 0.2 0.4]; % red \n",
    "thermal_color= [1 0.6 0.2]; % orange\n",
    "sound_color = [0 0.6 0.4]; % green\n",
    "negvis_color = [0 0.4 1]; % blue\n",
    "general_color = [0.5 0.5 0.5]; % gray"
   ]
  },
  {
   "cell_type": "markdown",
   "metadata": {},
   "source": [
    "## Run and plot Variance Explained "
   ]
  },
  {
   "cell_type": "markdown",
   "metadata": {},
   "source": [
    "### Separate modalities (4 specific + 1 general) "
   ]
  },
  {
   "cell_type": "code",
   "execution_count": 4,
   "metadata": {},
   "outputs": [],
   "source": [
    "%% Modality-specific (4 mods) \n",
    "stats = variance_explained_new_mc(yhat(:,2:end),avers_mat(:,2:end),subjects);\n",
    "%stats.rsq\n",
    "%stats.rsq_unique"
   ]
  },
  {
   "cell_type": "code",
   "execution_count": 5,
   "metadata": {},
   "outputs": [],
   "source": [
    "figtitle = sprintf('VarExplained for mech PLS crossval '); \n",
    "create_figure;\n",
    "subplot(1,2,1)\n",
    "mech=double([stats.rsq(1,1); stats.rsq_unique(1,1); 1-stats.rsq(1,1)-stats.rsq_unique(1,1)]);\n",
    "cols=[1 0 0       % var explained          \n",
    "    0.8 0 0         % unique variance explained\n",
    "    0.5 0.5 0.5];\n",
    "wani_pie(mech, 'hole', 'cols', cols);\n",
    "% colormap(gca, [1 0 0; 0.8 0 0]); % dark red, light red, gray\n",
    "set(gca, 'FontSize', 12); title ('Mechanical - % total available var');\n",
    "%clear colormap\n"
   ]
  },
  {
   "cell_type": "code",
   "execution_count": null,
   "metadata": {},
   "outputs": [],
   "source": []
  }
 ],
 "metadata": {
  "kernelspec": {
   "display_name": "MATLAB",
   "language": "matlab",
   "name": "imatlab"
  },
  "language_info": {
   "codemirror_mode": "octave",
   "file_extension": ".m",
   "mimetype": "text/x-matlab",
   "name": "matlab",
   "nbconvert_exporter": "imatlab._exporter.MatlabExporter",
   "pygments_lexer": "matlab",
   "version": "9.1.0.441655 (R2016b)"
  }
 },
 "nbformat": 4,
 "nbformat_minor": 2
}
